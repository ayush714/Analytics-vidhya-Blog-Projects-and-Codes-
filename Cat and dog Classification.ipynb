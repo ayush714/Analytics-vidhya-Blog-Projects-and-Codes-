{
 "cells": [
  {
   "cell_type": "code",
   "execution_count": 2,
   "metadata": {
    "_cell_guid": "b1076dfc-b9ad-4769-8c92-a6c4dae69d19",
    "_uuid": "8f2839f25d086af736a60e9eeb907d3b93b6e0e5",
    "execution": {
     "iopub.execute_input": "2021-08-01T04:41:22.730728Z",
     "iopub.status.busy": "2021-08-01T04:41:22.730358Z",
     "iopub.status.idle": "2021-08-01T04:41:27.345839Z",
     "shell.execute_reply": "2021-08-01T04:41:27.344625Z",
     "shell.execute_reply.started": "2021-08-01T04:41:22.730700Z"
    }
   },
   "outputs": [],
   "source": [
    "import numpy as np \n",
    "import pandas as pd  \n",
    "import os \n",
    "from pathlib import Path \n",
    "import glob\n",
    "import zipfile \n",
    "import random \n",
    "\n",
    "import seaborn as sns \n",
    "import matplotlib.pyplot as plt \n",
    "\n",
    "import tensorflow as tf  \n",
    "from tensorflow.keras import layers\n",
    "from tensorflow.keras import Model  \n",
    "import keras_preprocessing\n",
    "from keras_preprocessing import image   \n",
    "from tensorflow.keras.optimizers import RMSprop\n",
    "from keras_preprocessing.image import ImageDataGenerator"
   ]
  },
  {
   "cell_type": "code",
   "execution_count": 3,
   "metadata": {
    "execution": {
     "iopub.execute_input": "2021-08-01T04:41:27.348204Z",
     "iopub.status.busy": "2021-08-01T04:41:27.347861Z",
     "iopub.status.idle": "2021-08-01T04:41:28.039766Z",
     "shell.execute_reply": "2021-08-01T04:41:28.038437Z",
     "shell.execute_reply.started": "2021-08-01T04:41:27.348169Z"
    }
   },
   "outputs": [
    {
     "data": {
      "text/html": [
       "<div>\n",
       "<style scoped>\n",
       "    .dataframe tbody tr th:only-of-type {\n",
       "        vertical-align: middle;\n",
       "    }\n",
       "\n",
       "    .dataframe tbody tr th {\n",
       "        vertical-align: top;\n",
       "    }\n",
       "\n",
       "    .dataframe thead th {\n",
       "        text-align: right;\n",
       "    }\n",
       "</style>\n",
       "<table border=\"1\" class=\"dataframe\">\n",
       "  <thead>\n",
       "    <tr style=\"text-align: right;\">\n",
       "      <th></th>\n",
       "      <th>image_path</th>\n",
       "      <th>label</th>\n",
       "    </tr>\n",
       "  </thead>\n",
       "  <tbody>\n",
       "    <tr>\n",
       "      <th>0</th>\n",
       "      <td>../input/cat-and-dog/training_set/training_set...</td>\n",
       "      <td>0</td>\n",
       "    </tr>\n",
       "    <tr>\n",
       "      <th>1</th>\n",
       "      <td>../input/cat-and-dog/training_set/training_set...</td>\n",
       "      <td>1</td>\n",
       "    </tr>\n",
       "    <tr>\n",
       "      <th>2</th>\n",
       "      <td>../input/cat-and-dog/training_set/training_set...</td>\n",
       "      <td>1</td>\n",
       "    </tr>\n",
       "    <tr>\n",
       "      <th>3</th>\n",
       "      <td>../input/cat-and-dog/training_set/training_set...</td>\n",
       "      <td>0</td>\n",
       "    </tr>\n",
       "    <tr>\n",
       "      <th>4</th>\n",
       "      <td>../input/cat-and-dog/training_set/training_set...</td>\n",
       "      <td>1</td>\n",
       "    </tr>\n",
       "  </tbody>\n",
       "</table>\n",
       "</div>"
      ],
      "text/plain": [
       "                                          image_path  label\n",
       "0  ../input/cat-and-dog/training_set/training_set...      0\n",
       "1  ../input/cat-and-dog/training_set/training_set...      1\n",
       "2  ../input/cat-and-dog/training_set/training_set...      1\n",
       "3  ../input/cat-and-dog/training_set/training_set...      0\n",
       "4  ../input/cat-and-dog/training_set/training_set...      1"
      ]
     },
     "execution_count": 3,
     "metadata": {},
     "output_type": "execute_result"
    }
   ],
   "source": [
    "data_dir = Path('../input/cat-and-dog') \n",
    "\n",
    "train_dir = data_dir / \"training_set/training_set\" \n",
    "test_dir = data_dir / \"test_set/test_set\"\n",
    "\n",
    "cat_samples_dir_train = train_dir / \"cats\" \n",
    "dog_samples_dir_train = train_dir / \"dogs\" \n",
    "\n",
    "def make_csv_with_image_labels(CATS_PATH, DOGS_PATH):  \n",
    "    '''\n",
    "    Function for making a dataframe that contains images path as well as their labels.\n",
    "    Parameters:- \n",
    "     - CATS_PATH - Path for Cats  Images  \n",
    "     - DOGS_PATH - Path for Dogs Images \n",
    "    Output:- \n",
    "    It simply returns dataframe  \n",
    "    '''\n",
    "    cat_images = CATS_PATH.glob('*.jpg')\n",
    "    dog_images = DOGS_PATH.glob('*.jpg')\n",
    "    \n",
    "    df = [] \n",
    "    for i in cat_images: \n",
    "        df.append((i, 0)) \n",
    "    for j in dog_images: \n",
    "        df.append((i, 1))\n",
    "    \n",
    "    df = pd.DataFrame(df, columns=[\"image_path\", \"label\"], index = None) \n",
    "    df = df.sample(frac = 1).reset_index(drop=True) \n",
    "    \n",
    "    return df  \n",
    "\n",
    "train_csv = make_csv_with_image_labels(cat_samples_dir_train,dog_samples_dir_train) \n",
    "train_csv.head()"
   ]
  },
  {
   "cell_type": "code",
   "execution_count": 4,
   "metadata": {
    "execution": {
     "iopub.execute_input": "2021-08-01T04:41:28.047018Z",
     "iopub.status.busy": "2021-08-01T04:41:28.044526Z",
     "iopub.status.idle": "2021-08-01T04:41:28.250111Z",
     "shell.execute_reply": "2021-08-01T04:41:28.249147Z",
     "shell.execute_reply.started": "2021-08-01T04:41:28.046959Z"
    }
   },
   "outputs": [
    {
     "name": "stdout",
     "output_type": "stream",
     "text": [
      "Total No. Of CAT Samples :-  4000\n",
      "Total No. Of DOG Samples :-  4005\n"
     ]
    },
    {
     "data": {
      "image/png": "[encoded data removed]",
      "text/plain": [
       "<Figure size 432x288 with 1 Axes>"
      ]
     },
     "metadata": {},
     "output_type": "display_data"
    }
   ],
   "source": [
    "len_cat = len(train_csv[\"label\"][train_csv.label == 0])\n",
    "len_dog = len(train_csv[\"label\"][train_csv.label == 1])\n",
    "\n",
    "arr = np.array([len_cat , len_dog]) \n",
    "labels = ['CAT', 'DOG'] \n",
    "print(\"Total No. Of CAT Samples :- \", len_cat)\n",
    "print(\"Total No. Of DOG Samples :- \", len_dog)\n",
    "\n",
    "plt.pie(arr, labels=labels, explode = [0.2,0.0] , shadow=True) \n",
    "plt.show()"
   ]
  },
  {
   "cell_type": "code",
   "execution_count": 5,
   "metadata": {
    "execution": {
     "iopub.execute_input": "2021-08-01T04:41:28.256423Z",
     "iopub.status.busy": "2021-08-01T04:41:28.254254Z",
     "iopub.status.idle": "2021-08-01T04:41:35.418083Z",
     "shell.execute_reply": "2021-08-01T04:41:35.416690Z",
     "shell.execute_reply.started": "2021-08-01T04:41:28.256382Z"
    }
   },
   "outputs": [
    {
     "name": "stdout",
     "output_type": "stream",
     "text": [
      "Found 8005 images belonging to 2 classes.\n"
     ]
    }
   ],
   "source": [
    "def get_train_generator(train_dir, batch_size=64, target_size=(224, 224)):  \n",
    "    ''' \n",
    "    Function for preparing training data\n",
    "    '''\n",
    "    train_datagen = ImageDataGenerator(rescale = 1./255., # normalizing the image \n",
    "                                   rotation_range = 40,\n",
    "                                   width_shift_range = 0.2,\n",
    "                                   height_shift_range = 0.2,\n",
    "                                   shear_range = 0.2,\n",
    "                                   zoom_range = 0.2,\n",
    "                                   horizontal_flip = True) \n",
    "    \n",
    "    train_generator = train_datagen.flow_from_directory(train_dir, \n",
    "                                                    batch_size = batch_size, \n",
    "                                                    color_mode='rgb',\n",
    "                                                    class_mode = 'binary', \n",
    "                                                    target_size = target_size)   \n",
    "    return train_generator  \n",
    "\n",
    "train_generator = get_train_generator(train_dir) "
   ]
  },
  {
   "cell_type": "code",
   "execution_count": 6,
   "metadata": {
    "execution": {
     "iopub.execute_input": "2021-08-01T04:41:35.419906Z",
     "iopub.status.busy": "2021-08-01T04:41:35.419561Z",
     "iopub.status.idle": "2021-08-01T04:41:35.735604Z",
     "shell.execute_reply": "2021-08-01T04:41:35.734742Z",
     "shell.execute_reply.started": "2021-08-01T04:41:35.419851Z"
    }
   },
   "outputs": [
    {
     "name": "stdout",
     "output_type": "stream",
     "text": [
      "Found 2023 images belonging to 2 classes.\n"
     ]
    }
   ],
   "source": [
    "def get_testgenerator(test_dir,batch_size=64, target_size=(224,224)): \n",
    "    ''' \n",
    "    Function for preparing testing data\n",
    "    '''\n",
    "    test_datagen = ImageDataGenerator( rescale = 1.0/255. )\n",
    "    test_generator  =  test_datagen.flow_from_directory(test_dir, \n",
    "                                                          batch_size  = batch_size, \n",
    "                                                          color_mode='rgb',\n",
    "                                                          class_mode  = 'binary', \n",
    "                                                          target_size = target_size) \n",
    "    return test_generator\n",
    "\n",
    "test_generator = get_testgenerator(test_dir)"
   ]
  },
  {
   "cell_type": "code",
   "execution_count": 7,
   "metadata": {
    "execution": {
     "iopub.execute_input": "2021-08-01T04:41:35.737284Z",
     "iopub.status.busy": "2021-08-01T04:41:35.736831Z",
     "iopub.status.idle": "2021-08-01T04:41:37.762872Z",
     "shell.execute_reply": "2021-08-01T04:41:37.762043Z",
     "shell.execute_reply.started": "2021-08-01T04:41:35.737248Z"
    }
   },
   "outputs": [
    {
     "name": "stdout",
     "output_type": "stream",
     "text": [
      "Model: \"sequential\"\n",
      "_________________________________________________________________\n",
      "Layer (type)                 Output Shape              Param #   \n",
      "=================================================================\n",
      "conv2d (Conv2D)              (None, 112, 112, 64)      1792      \n",
      "_________________________________________________________________\n",
      "max_pooling2d (MaxPooling2D) (None, 56, 56, 64)        0         \n",
      "_________________________________________________________________\n",
      "conv2d_1 (Conv2D)            (None, 28, 28, 128)       73856     \n",
      "_________________________________________________________________\n",
      "max_pooling2d_1 (MaxPooling2 (None, 14, 14, 128)       0         \n",
      "_________________________________________________________________\n",
      "conv2d_2 (Conv2D)            (None, 7, 7, 256)         295168    \n",
      "_________________________________________________________________\n",
      "max_pooling2d_2 (MaxPooling2 (None, 3, 3, 256)         0         \n",
      "_________________________________________________________________\n",
      "flatten (Flatten)            (None, 2304)              0         \n",
      "_________________________________________________________________\n",
      "dense (Dense)                (None, 158)               364190    \n",
      "_________________________________________________________________\n",
      "dense_1 (Dense)              (None, 256)               40704     \n",
      "_________________________________________________________________\n",
      "dense_2 (Dense)              (None, 128)               32896     \n",
      "_________________________________________________________________\n",
      "dense_3 (Dense)              (None, 1)                 129       \n",
      "=================================================================\n",
      "Total params: 808,735\n",
      "Trainable params: 808,735\n",
      "Non-trainable params: 0\n",
      "_________________________________________________________________\n"
     ]
    }
   ],
   "source": [
    "# building the model \n",
    "model = tf.keras.Sequential([ \n",
    "    layers.Conv2D(64, (3,3), strides=(2,2),padding='same',input_shape= (224,224,3),activation = 'relu'),\n",
    "    layers.MaxPool2D(2,2), \n",
    "    layers.Conv2D(128, (3,3), strides=(2,2),padding='same',activation = 'relu'),\n",
    "    layers.MaxPool2D(2,2), \n",
    "    layers.Conv2D(256, (3,3), strides=(2,2),padding='same',activation = 'relu'), \n",
    "    layers.MaxPool2D(2,2),  \n",
    "    layers.Flatten(), \n",
    "    layers.Dense(158, activation ='relu'), \n",
    "    layers.Dense(256, activation = 'relu'), \n",
    "    layers.Dense(128, activation = 'relu'), \n",
    "    layers.Dense(1, activation = 'sigmoid'), \n",
    "]) \n",
    "model.summary()"
   ]
  },
  {
   "cell_type": "code",
   "execution_count": 8,
   "metadata": {
    "execution": {
     "iopub.execute_input": "2021-08-01T04:42:28.540689Z",
     "iopub.status.busy": "2021-08-01T04:42:28.540346Z",
     "iopub.status.idle": "2021-08-01T05:13:01.340706Z",
     "shell.execute_reply": "2021-08-01T05:13:01.339654Z",
     "shell.execute_reply.started": "2021-08-01T04:42:28.540657Z"
    }
   },
   "outputs": [
    {
     "name": "stdout",
     "output_type": "stream",
     "text": [
      "warnings ignored\n",
      "Epoch 1/15\n",
      "126/126 [==============================] - 117s 927ms/step - loss: 0.6851 - acc: 0.5718 - val_loss: 0.6760 - val_acc: 0.5378\n",
      "Epoch 3/15\n",
      "126/126 [==============================] - 117s 929ms/step - loss: 0.6533 - acc: 0.6313 - val_loss: 0.6210 - val_acc: 0.6624\n",
      "Epoch 4/15\n",
      "126/126 [==============================] - 118s 940ms/step - loss: 0.6212 - acc: 0.6506 - val_loss: 0.5557 - val_acc: 0.7123\n",
      "Epoch 5/15\n",
      "126/126 [==============================] - 118s 940ms/step - loss: 0.6128 - acc: 0.6592 - val_loss: 0.5382 - val_acc: 0.7341\n",
      "Epoch 6/15\n",
      "126/126 [==============================] - 124s 983ms/step - loss: 0.5853 - acc: 0.6998 - val_loss: 0.4984 - val_acc: 0.7647\n",
      "Epoch 7/15\n",
      "126/126 [==============================] - 124s 984ms/step - loss: 0.5730 - acc: 0.7027 - val_loss: 0.5394 - val_acc: 0.7202\n",
      "Epoch 8/15\n",
      "126/126 [==============================] - 117s 931ms/step - loss: 0.5627 - acc: 0.7048 - val_loss: 0.5158 - val_acc: 0.7444\n",
      "Epoch 9/15\n",
      "126/126 [==============================] - 116s 922ms/step - loss: 0.5628 - acc: 0.7179 - val_loss: 0.4652 - val_acc: 0.7721\n",
      "Epoch 10/15\n",
      "126/126 [==============================] - 119s 947ms/step - loss: 0.5381 - acc: 0.7495 - val_loss: 0.4548 - val_acc: 0.7904\n",
      "Epoch 11/15\n",
      "126/126 [==============================] - 118s 933ms/step - loss: 0.5238 - acc: 0.7433 - val_loss: 0.4686 - val_acc: 0.7889\n",
      "Epoch 12/15\n",
      "126/126 [==============================] - 120s 949ms/step - loss: 0.5149 - acc: 0.7508 - val_loss: 0.4618 - val_acc: 0.7598\n",
      "Epoch 13/15\n",
      "126/126 [==============================] - 116s 919ms/step - loss: 0.5215 - acc: 0.7429 - val_loss: 0.4499 - val_acc: 0.7968\n",
      "Epoch 14/15\n",
      "126/126 [==============================] - 118s 936ms/step - loss: 0.4905 - acc: 0.7663 - val_loss: 0.4299 - val_acc: 0.8082\n",
      "Epoch 15/15\n",
      "126/126 [==============================] - 121s 959ms/step - loss: 0.5031 - acc: 0.7558 - val_loss: 0.3939 - val_acc: 0.8309\n"
     ]
    }
   ],
   "source": [
    "model.compile(optimizer=RMSprop(lr=0.001), loss='binary_crossentropy', metrics=['acc'])\n",
    "\n",
    "import warnings\n",
    "warnings.filterwarnings('ignore')\n",
    "print('warnings ignored')\n",
    "\n",
    "history = model.fit_generator(train_generator,\n",
    "                              epochs=15,\n",
    "                              verbose=1,\n",
    "                              validation_data=test_generator)"
   ]
  },
  {
   "cell_type": "code",
   "execution_count": 9,
   "metadata": {
    "execution": {
     "iopub.execute_input": "2021-08-01T05:24:12.721699Z",
     "iopub.status.busy": "2021-08-01T05:24:12.721276Z",
     "iopub.status.idle": "2021-08-01T05:24:12.975405Z",
     "shell.execute_reply": "2021-08-01T05:24:12.974427Z",
     "shell.execute_reply.started": "2021-08-01T05:24:12.721666Z"
    }
   },
   "outputs": [
    {
     "data": {
      "text/plain": [
       "Text(0.5, 1.0, 'Training and validation loss')"
      ]
     },
     "execution_count": 9,
     "metadata": {},
     "output_type": "execute_result"
    },
    {
     "data": {
      "image/png": "[encoded data removed]",
      "text/plain": [
       "<Figure size 432x288 with 1 Axes>"
      ]
     },
     "metadata": {
      "needs_background": "light"
     },
     "output_type": "display_data"
    },
    {
     "data": {
      "image/png": "[encoded data removed]",
      "text/plain": [
       "<Figure size 432x288 with 1 Axes>"
      ]
     },
     "metadata": {
      "needs_background": "light"
     },
     "output_type": "display_data"
    }
   ],
   "source": [
    "import matplotlib.image  as mpimg\n",
    "import matplotlib.pyplot as plt\n",
    "\n",
    "acc=history.history['acc']\n",
    "val_acc=history.history['val_acc']\n",
    "loss=history.history['loss']\n",
    "val_loss=history.history['val_loss']\n",
    "\n",
    "epochs=range(len(acc))\n",
    "\n",
    "plt.plot(epochs, acc, 'r', \"Training Accuracy\")\n",
    "plt.plot(epochs, val_acc, 'b', \"Validation Accuracy\")\n",
    "plt.title('Training and validation accuracy')\n",
    "plt.figure()\n",
    "\n",
    "plt.plot(epochs, loss, 'r', \"Training Loss\")\n",
    "plt.plot(epochs, val_loss, 'b', \"Validation Loss\")\n",
    "\n",
    "plt.title('Training and validation loss')"
   ]
  },
  {
   "cell_type": "code",
   "execution_count": 12,
   "metadata": {
    "execution": {
     "iopub.execute_input": "2021-08-01T05:30:05.800079Z",
     "iopub.status.busy": "2021-08-01T05:30:05.799705Z",
     "iopub.status.idle": "2021-08-01T05:30:05.850045Z",
     "shell.execute_reply": "2021-08-01T05:30:05.849186Z",
     "shell.execute_reply.started": "2021-08-01T05:30:05.800046Z"
    }
   },
   "outputs": [],
   "source": [
    "model.save('my_model.h5')"
   ]
  },
  {
   "cell_type": "code",
   "execution_count": 14,
   "metadata": {
    "execution": {
     "iopub.execute_input": "2021-08-01T05:30:40.629658Z",
     "iopub.status.busy": "2021-08-01T05:30:40.629299Z",
     "iopub.status.idle": "2021-08-01T05:30:40.755524Z",
     "shell.execute_reply": "2021-08-01T05:30:40.754772Z",
     "shell.execute_reply.started": "2021-08-01T05:30:40.629627Z"
    }
   },
   "outputs": [
    {
     "name": "stdout",
     "output_type": "stream",
     "text": [
      "Model: \"sequential\"\n",
      "_________________________________________________________________\n",
      "Layer (type)                 Output Shape              Param #   \n",
      "=================================================================\n",
      "conv2d (Conv2D)              (None, 112, 112, 64)      1792      \n",
      "_________________________________________________________________\n",
      "max_pooling2d (MaxPooling2D) (None, 56, 56, 64)        0         \n",
      "_________________________________________________________________\n",
      "conv2d_1 (Conv2D)            (None, 28, 28, 128)       73856     \n",
      "_________________________________________________________________\n",
      "max_pooling2d_1 (MaxPooling2 (None, 14, 14, 128)       0         \n",
      "_________________________________________________________________\n",
      "conv2d_2 (Conv2D)            (None, 7, 7, 256)         295168    \n",
      "_________________________________________________________________\n",
      "max_pooling2d_2 (MaxPooling2 (None, 3, 3, 256)         0         \n",
      "_________________________________________________________________\n",
      "flatten (Flatten)            (None, 2304)              0         \n",
      "_________________________________________________________________\n",
      "dense (Dense)                (None, 158)               364190    \n",
      "_________________________________________________________________\n",
      "dense_1 (Dense)              (None, 256)               40704     \n",
      "_________________________________________________________________\n",
      "dense_2 (Dense)              (None, 128)               32896     \n",
      "_________________________________________________________________\n",
      "dense_3 (Dense)              (None, 1)                 129       \n",
      "=================================================================\n",
      "Total params: 808,735\n",
      "Trainable params: 808,735\n",
      "Non-trainable params: 0\n",
      "_________________________________________________________________\n"
     ]
    }
   ],
   "source": [
    "model.save('my_model.h5')\n",
    "new_model = tf.keras.models.load_model('./my_model.h5')\n",
    "\n",
    "# Show the model architecture\n",
    "new_model.summary()"
   ]
  },
  {
   "cell_type": "code",
   "execution_count": null,
   "metadata": {},
   "outputs": [],
   "source": []
  }
 ],
 "metadata": {
  "kernelspec": {
   "display_name": "Python 3",
   "language": "python",
   "name": "python3"
  },
  "language_info": {
   "codemirror_mode": {
    "name": "ipython",
    "version": 3
   },
   "file_extension": ".py",
   "mimetype": "text/x-python",
   "name": "python",
   "nbconvert_exporter": "python",
   "pygments_lexer": "ipython3",
   "version": "3.8.3"
  }
 },
 "nbformat": 4,
 "nbformat_minor": 4
}
